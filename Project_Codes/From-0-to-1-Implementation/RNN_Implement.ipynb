{
 "cells": [
  {
   "cell_type": "code",
   "execution_count": 4,
   "id": "399bbf09",
   "metadata": {},
   "outputs": [
    {
     "name": "stdout",
     "output_type": "stream",
     "text": [
      "will use cpu(0)\n"
     ]
    }
   ],
   "source": [
    "import d2lzh as d2l\n",
    "import math\n",
    "from mxnet import autograd, gluon, init, nd\n",
    "from mxnet.gluon import loss as gloss, nn, rnn\n",
    "import time\n",
    "import zipfile\n",
    "\n",
    "ctx = d2l.try_gpu()\n",
    "print('will use', ctx)"
   ]
  },
  {
   "cell_type": "code",
   "execution_count": 5,
   "id": "fba9723c",
   "metadata": {},
   "outputs": [],
   "source": [
    "# load dataset\n",
    "def load_data_jay_lyrics():\n",
    "    \"\"\"Load the Jay Chou lyric data set (available in the Chinese book).\"\"\"\n",
    "    with zipfile.ZipFile('data/jaychou_lyrics.txt.zip') as zin:\n",
    "        with zin.open('jaychou_lyrics.txt') as f:\n",
    "            corpus_chars = f.read().decode('utf-8')\n",
    "    corpus_chars = corpus_chars.replace('\\n', ' ').replace('\\r', ' ')\n",
    "    corpus_chars = corpus_chars[0:10000]\n",
    "    idx_to_char = list(set(corpus_chars))\n",
    "    char_to_idx = dict([(char, i) for i, char in enumerate(idx_to_char)])\n",
    "    vocab_size = len(char_to_idx)\n",
    "    corpus_indices = [char_to_idx[char] for char in corpus_chars]\n",
    "    return corpus_indices, char_to_idx, idx_to_char, vocab_size\n",
    "\n",
    "(corpus_indices, char_to_idx, idx_to_char, vocab_size) = load_data_jay_lyrics()"
   ]
  },
  {
   "cell_type": "code",
   "execution_count": 6,
   "id": "c7a284fe",
   "metadata": {},
   "outputs": [
    {
     "data": {
      "text/plain": [
       "1027"
      ]
     },
     "execution_count": 6,
     "metadata": {},
     "output_type": "execute_result"
    }
   ],
   "source": [
    "vocab_size"
   ]
  },
  {
   "cell_type": "markdown",
   "id": "189cdf8a",
   "metadata": {},
   "source": [
    "定义模型"
   ]
  },
  {
   "cell_type": "code",
   "execution_count": 37,
   "id": "daca31be",
   "metadata": {},
   "outputs": [],
   "source": [
    "num_hiddens = 256\n",
    "rnn_layer = rnn.RNN(num_hiddens)\n",
    "rnn_layer.initialize()"
   ]
  },
  {
   "cell_type": "code",
   "execution_count": 39,
   "id": "65253882",
   "metadata": {},
   "outputs": [
    {
     "data": {
      "text/plain": [
       "(1, 2, 256)"
      ]
     },
     "execution_count": 39,
     "metadata": {},
     "output_type": "execute_result"
    }
   ],
   "source": [
    "batch_size = 2\n",
    "state = rnn_layer.begin_state(batch_size = batch_size)\n",
    "state[0].shape"
   ]
  },
  {
   "cell_type": "code",
   "execution_count": 43,
   "id": "dc7b38bf",
   "metadata": {},
   "outputs": [
    {
     "name": "stdout",
     "output_type": "stream",
     "text": [
      "(40, 2, 256) 1 (1, 2, 256)\n"
     ]
    },
    {
     "data": {
      "text/plain": [
       "(80, 256)"
      ]
     },
     "execution_count": 43,
     "metadata": {},
     "output_type": "execute_result"
    }
   ],
   "source": [
    "# INPUT: （时间步数，batch_size，输入个数（vocab_size））\n",
    "\n",
    "# OUTPUT：\n",
    "#     Y: （时间步数，batch_size，隐藏单元个数），未通过输出层计算\n",
    "#     State（隐藏状态）\n",
    "\n",
    "num_steps = 40\n",
    "X = nd.random.uniform(shape = (num_steps, batch_size, vocab_size))\n",
    "Y, state_new = rnn_layer(X, state)\n",
    "print(Y.shape, len(state_new), state_new[0].shape)\n",
    "\n",
    "Y.reshape((-1, Y.shape[-1])).shape"
   ]
  },
  {
   "cell_type": "code",
   "execution_count": 44,
   "id": "ff3b9867",
   "metadata": {},
   "outputs": [],
   "source": [
    "# 继承Block类来定义RNN\n",
    "class RNNModel(nn.Block):\n",
    "    def __init__(self, rnn_layer, vocab_size, **kwargs):\n",
    "        super(RNNModel, self).__init__(**kwargs)\n",
    "        self.rnn = rnn_layer\n",
    "        self.vocab_size = vocab_size\n",
    "        self.dense = nn.Dense(vocab_size)\n",
    "        \n",
    "    def forward(self, input, state):\n",
    "        # One hot encoding; use tranpose to get the right dimension (num_steps, batch_size)\n",
    "        X = nd.one_hot(input.T, self.vocab_size)\n",
    "        Y, state = self.rnn(X, state)\n",
    "        # 然后是输出层：\n",
    "        # 全连接层会首先将Y的形状变成(num_steps * batch_size, num_hiddens)，\n",
    "        # 它的输出形状为(num_steps * batch_size, vocab_size)\n",
    "        output = self.dense(Y.reshape((-1 ,Y.shape[-1])))\n",
    "        return output, state\n",
    "    \n",
    "    def begin_state(self, *args, **kwargs):\n",
    "        return self.rnn.begin_state(*args, **kwargs)"
   ]
  },
  {
   "cell_type": "markdown",
   "id": "ca786089",
   "metadata": {},
   "source": [
    "训练模型"
   ]
  },
  {
   "cell_type": "code",
   "execution_count": 54,
   "id": "4a079336",
   "metadata": {},
   "outputs": [],
   "source": [
    "def predict_rnn_gluon(prefix, num_chars, model, vocab_size, ctx, idx_to_char,\n",
    "                      char_to_idx):\n",
    "    state = model.begin_state(batch_size=1, ctx=ctx)\n",
    "    output = [char_to_idx[prefix[0]]]\n",
    "    \n",
    "    for t in range(len(prefix) + num_chars - 1):\n",
    "        X = nd.array([output[-1]], ctx=ctx).reshape((1,1))\n",
    "        Y, state = model(X, state)\n",
    "        \n",
    "        if t < len(prefix)-1:\n",
    "            output.append(char_to_idx[prefix[t+1]])\n",
    "        else:\n",
    "            output.append(int(Y.argmax(axis = 1).asscalar()))\n",
    "    return ''.join([idx_to_char[i] for i in output])"
   ]
  },
  {
   "cell_type": "code",
   "execution_count": 57,
   "id": "b760600d",
   "metadata": {},
   "outputs": [
    {
     "data": {
      "text/plain": [
       "'他们将彻明外甘杂将果优拳承鼻纯岁彻'"
      ]
     },
     "execution_count": 57,
     "metadata": {},
     "output_type": "execute_result"
    }
   ],
   "source": [
    "ctx = d2l.try_gpu()\n",
    "model = RNNModel(rnn_layer, vocab_size)\n",
    "model.initialize(force_reinit=True, ctx=ctx)\n",
    "predict_rnn_gluon('他们', 15, model, vocab_size, ctx, idx_to_char, char_to_idx)"
   ]
  },
  {
   "cell_type": "code",
   "execution_count": 62,
   "id": "794cfdff",
   "metadata": {},
   "outputs": [],
   "source": [
    "def train_and_predict_rnn_gluon(model, num_hiddens, vocab_size, ctx,\n",
    "                                corpus_indices, idx_to_char, char_to_idx,\n",
    "                                num_epochs, num_steps, lr, clipping_theta,\n",
    "                                batch_size, pred_period, pred_len, prefixes):\n",
    "    loss = gloss.SoftmaxCrossEntropyLoss()\n",
    "    model.initialize(ctx=ctx, force_reinit=True, init=init.Normal(0.01))\n",
    "    trainer = gluon.Trainer(model.collect_params(), 'sgd', \n",
    "                           {'learning_rate': lr, 'momentum': 0, 'wd': 0})\n",
    "    \n",
    "    for epoch in range(num_epochs):\n",
    "        l_sum, n, start = 0.0, 0, time.time()\n",
    "        data_iter = d2l.data_iter_consecutive(\n",
    "             corpus_indices, batch_size, num_steps, ctx)\n",
    "        state = model.begin_state(batch_size=batch_size, ctx=ctx)\n",
    "        \n",
    "        for X,Y in data_iter:\n",
    "            for s in state:\n",
    "                s.detach()\n",
    "            with autograd.record():\n",
    "                (output, state) = model(X, state)\n",
    "                y = Y.T.reshape((-1,))\n",
    "                l = loss(output, y).mean()\n",
    "            l.backward()\n",
    "            # clipping grad\n",
    "            params = [p.data() for p in model.collect_params().values()]\n",
    "            d2l.grad_clipping(params, clipping_theta, ctx)\n",
    "            trainer.step(1)\n",
    "            l_sum += l.asscalar() * y.size\n",
    "            n += y.size\n",
    "            \n",
    "        if (epoch + 1) % pred_period == 0:\n",
    "            print('epoch %d, perplexity %f, time %.2f sec' % (\n",
    "                epoch + 1, math.exp(l_sum / n), time.time() - start))\n",
    "            for prefix in prefixes:\n",
    "                print(' -', predict_rnn_gluon(\n",
    "                    prefix, pred_len, model, vocab_size, ctx, idx_to_char,\n",
    "                    char_to_idx))"
   ]
  },
  {
   "cell_type": "code",
   "execution_count": 74,
   "id": "df4619da",
   "metadata": {
    "scrolled": false
   },
   "outputs": [
    {
     "name": "stdout",
     "output_type": "stream",
     "text": [
      "epoch 100, perplexity 21.159455, time 0.62 sec\n",
      " - 我是谁烦错多 我不要你的你笑每天都能看要在有 你来一定是我 不知这进队人已的一头在缓著一等 说不我有轻你是一场悲剧伤你的那袋 让有在木不 我不能再想 我不能我想你睡爱火 是的的美 你来一定开我 不知这进队人\n",
      " - 是谁 娘子的美蜜在 一直在老 快人了沙凉棍 哼哼的客栈人多的老没有开 爱可的让我感动的可爱女人 透柔的让我疯狂的可爱女人 透柔的让我疯狂的可爱女人 透柔的让我疯狂的可爱女人 透柔的让我疯狂的可爱女人 透柔\n",
      "epoch 200, perplexity 2.915417, time 0.60 sec\n",
      " - 我是谁处难躲 我 上你说 分子我娘已踢 飞檐走壁游药 快攻抢篮板都 得分都靠板都 一直都靠板 不天是乌鸦喝水它的窝 它在灌木丛旁邂逅 一只令它心仪我都妈 难道你手不会痛吗 我叫我爸辈子痛 一壶好酒 再来一碗\n",
      " - 是谁 娘子她么在 除有是直 全不了送 恨我不懂 说了没用 我该已好开妈 后知后觉 又过了一个秋 后知后觉 我该好好生活 我该好好生活 不知不觉 你已经离开我 不知不觉 我跟了这节奏 后知后觉 又过了一个秋\n",
      "epoch 300, perplexity 1.638817, time 0.70 sec\n",
      " - 我是谁你   我 泪的我 印分这么 不使我不抽经猜透看透不想 你远么 爱步两人 有如果动 这切落空 在隐海中 你一没痛 说我不懂 说了没用 他的笑容 有何己同 在你海中 你一定受 恨我不懂 说了没用 他的笑\n",
      " - 是谁 我满 你不下我每能 难成你的形状 随风跟著我 一口一人吃掉 又北哈怯的我 相思寄红豆 相思寄红豆无能为力的在人海中漂泊心伤透 娘子她人在江南等我 泪不休 语沉默娘子她人在江 我来轻的叹写在西元前 深\n",
      "epoch 400, perplexity 1.487666, time 0.60 sec\n",
      " - 我是谁 可道现迷不会痛吗 其物我回家就着 但杰个人已经不是我 没有一九四三 泛黄的春联还残 牧了有没有 我马儿有些瘦 天涯尽头 满脸风霜落寞 近乡情怯的我 相思寄红豆 相思寄红豆无能为力的在人海中漂泊心伤透\n",
      " - 是谁 我想 你不是 每你我遇见你是一场悲剧 我想我这辈子注定一个人演戏 最后再一个人慢慢的回忆 没有了木板的屋内还弥漫 姥姥当年酿的豆瓣酱 我对著黑白照片开始想像 爸和妈当年的模样 说著一口吴侬软语的姑娘\n",
      "epoch 500, perplexity 1.389901, time 0.64 sec\n",
      " - 我是谁 誓 为迷我  我有道声  我心上头已 一直到我 全你说 分数怎么停留 一直在停留 谁让它停留的寻墓岩到漫暴 为在一枝蓝剧 连在那 我想大你已 我有要再想 我不 我不 我不能 爱情走的太快就像龙卷风 \n",
      " - 是谁 在养我 谁是神枪手 巫有 他念念 有词的 对酋长下诅咒 还我骷髅头 这故的让我 谁拿一口运听 篮色你以 我试要将节奏 我该好好生活 不知不觉 你已经离开我 不知不觉 我跟了这节奏 后知后觉 又过了一\n"
     ]
    }
   ],
   "source": [
    "num_epochs, batch_size, lr, clipping_theta = 500, 32, 1e2, 1e-2\n",
    "pred_period, pred_len, prefixes = 100, 100, ['我是谁', '是谁']\n",
    "train_and_predict_rnn_gluon(model, num_hiddens, vocab_size, ctx,\n",
    "                            corpus_indices, idx_to_char, char_to_idx,\n",
    "                            num_epochs, num_steps, lr, clipping_theta,\n",
    "                            batch_size, pred_period, pred_len, prefixes)"
   ]
  }
 ],
 "metadata": {
  "kernelspec": {
   "display_name": "Python 3",
   "language": "python",
   "name": "python3"
  },
  "language_info": {
   "codemirror_mode": {
    "name": "ipython",
    "version": 3
   },
   "file_extension": ".py",
   "mimetype": "text/x-python",
   "name": "python",
   "nbconvert_exporter": "python",
   "pygments_lexer": "ipython3",
   "version": "3.7.6"
  }
 },
 "nbformat": 4,
 "nbformat_minor": 5
}
